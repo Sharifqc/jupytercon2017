{
 "cells": [
  {
   "cell_type": "markdown",
   "metadata": {},
   "source": [
    "# Matplotlib API refresher"
   ]
  },
  {
   "cell_type": "code",
   "execution_count": null,
   "metadata": {
    "collapsed": true
   },
   "outputs": [],
   "source": [
    "% matplotlib notebook\n",
    "import matplotlib.pyplot as plt"
   ]
  },
  {
   "cell_type": "markdown",
   "metadata": {},
   "source": [
    "## Matplotlib \"stateful\" api\n",
    "Modifies \"current figure\""
   ]
  },
  {
   "cell_type": "code",
   "execution_count": null,
   "metadata": {
    "collapsed": true
   },
   "outputs": [],
   "source": [
    "plt.plot(range(10))\n",
    "plt.plot(range(10, 0, -1))"
   ]
  },
  {
   "cell_type": "code",
   "execution_count": null,
   "metadata": {
    "collapsed": true
   },
   "outputs": [],
   "source": [
    "import numpy as np\n",
    "plt.plot(np.sin(np.linspace(-3, 3, 20)))"
   ]
  },
  {
   "cell_type": "markdown",
   "metadata": {},
   "source": [
    "## Works also with subplot"
   ]
  },
  {
   "cell_type": "code",
   "execution_count": null,
   "metadata": {
    "collapsed": true
   },
   "outputs": [],
   "source": [
    "plt.figure()\n",
    "# create a subplot by specifying grid width, grid height and index:\n",
    "# 2x2 grid, first plot (one-indexed)\n",
    "plt.subplot(2, 2, 1)\n",
    "# plt.title changes \"current axes\"\n",
    "plt.title(\"first plot\")\n",
    "plt.plot(np.random.uniform(size=10))\n",
    "\n",
    "plt.subplot(2, 2, 2)\n",
    "# now subplot 2 is current\n",
    "plt.title(\"second plot\")\n",
    "plt.plot(np.random.uniform(size=10), 'o')\n",
    "\n",
    "plt.subplot(2, 2, 3)\n",
    "plt.title(\"third plot\")\n",
    "plt.barh(range(10), np.random.uniform(size=10))\n",
    "\n",
    "plt.subplot(2, 2, 4)\n",
    "plt.title(\"fourth plot\")\n",
    "plt.imshow(np.random.uniform(size=(10, 10)))\n",
    "plt.tight_layout()"
   ]
  },
  {
   "cell_type": "markdown",
   "metadata": {},
   "source": [
    "## Object oriented / Axis oriented API is more powerful\n",
    "Have an object per axes, plot directly to axes.\n",
    "\n",
    "methods modifying the axes have ``set_``!"
   ]
  },
  {
   "cell_type": "code",
   "execution_count": null,
   "metadata": {
    "collapsed": true
   },
   "outputs": [],
   "source": [
    "plt.figure()\n",
    "ax11 = plt.subplot(2, 2, 1)\n",
    "ax21 = plt.subplot(2, 2, 2)\n",
    "ax12 = plt.subplot(2, 2, 3)\n",
    "ax22 = plt.subplot(2, 2, 4)\n",
    "\n",
    "ax11.set_title(\"ax11\")\n",
    "ax21.set_title(\"ax21\")\n",
    "ax12.set_title(\"ax12\")\n",
    "ax22.set_title(\"ax22\")\n",
    "\n",
    "ax21.plot(np.random.randn(10))\n",
    "plt.tight_layout()"
   ]
  },
  {
   "cell_type": "code",
   "execution_count": null,
   "metadata": {
    "collapsed": true
   },
   "outputs": [],
   "source": [
    "## My favorite interface: plt.subplots!"
   ]
  },
  {
   "cell_type": "code",
   "execution_count": null,
   "metadata": {
    "collapsed": true
   },
   "outputs": [],
   "source": [
    "fig, axes = plt.subplots(2, 2)\n",
    "ax11, ax21, ax12, ax22 = axes.ravel()\n",
    "ax11.set_title(\"ax11\")\n",
    "ax21.set_title(\"ax21\")\n",
    "ax12.set_title(\"ax12\")\n",
    "ax22.set_title(\"ax22\")"
   ]
  },
  {
   "cell_type": "markdown",
   "metadata": {},
   "source": [
    "## Exercise\n",
    "Create a grid plot with one row and four columns where the first entry plots the function ``f(x) = x``, the second ``f(x)=x ** 2``, the third ``f(x)=x ** 3`` and the fourth ``f(x)=x**4``."
   ]
  },
  {
   "cell_type": "code",
   "execution_count": null,
   "metadata": {
    "collapsed": true
   },
   "outputs": [],
   "source": [
    "# Your solution\n"
   ]
  },
  {
   "cell_type": "markdown",
   "metadata": {},
   "source": [
    "##  More fun with subplots!"
   ]
  },
  {
   "cell_type": "code",
   "execution_count": null,
   "metadata": {
    "collapsed": true
   },
   "outputs": [],
   "source": [
    "import numpy as np\n",
    "sin = np.sin(np.linspace(-4, 4, 100))\n",
    "fig, axes = plt.subplots(2, 2)\n",
    "plt.plot(sin)"
   ]
  },
  {
   "cell_type": "code",
   "execution_count": null,
   "metadata": {
    "collapsed": true
   },
   "outputs": [],
   "source": [
    "fig, axes = plt.subplots(2, 2)\n",
    "axes[0, 0].plot(sin)"
   ]
  },
  {
   "cell_type": "code",
   "execution_count": null,
   "metadata": {
    "collapsed": true
   },
   "outputs": [],
   "source": [
    "asdf = plt.gca()\n",
    "asdf.plot(sin, c='k')"
   ]
  },
  {
   "cell_type": "markdown",
   "metadata": {},
   "source": [
    "## More on plotting commands and styling"
   ]
  },
  {
   "cell_type": "code",
   "execution_count": null,
   "metadata": {
    "collapsed": true
   },
   "outputs": [],
   "source": [
    "fig, ax = plt.subplots(2, 4, figsize=(10, 5))\n",
    "ax[0, 0].plot(sin)\n",
    "ax[0, 1].plot(range(100), sin)  # same as above\n",
    "ax[0, 2].plot(np.linspace(-4, 4, 100), sin)\n",
    "ax[0, 3].plot(sin[::10], 'o')\n",
    "ax[1, 0].plot(sin, c='r')\n",
    "ax[1, 1].plot(sin, '--')\n",
    "ax[1, 2].plot(sin, lw=3)\n",
    "ax[1, 3].plot(sin[::10], '--o')\n",
    "plt.tight_layout() # makes stuff fit - usually works"
   ]
  },
  {
   "cell_type": "markdown",
   "metadata": {},
   "source": [
    "# Exercise\n",
    "See how many lines you can put in a plot an still distinguish them (using the styles described above).\n",
    "How many can you distinguish if you don't use color?\n",
    "See the [lines bars and markers](https://matplotlib.org/gallery.html#lines_bars_and_markers) section of the matplotlib examples for more different styles"
   ]
  },
  {
   "cell_type": "code",
   "execution_count": null,
   "metadata": {
    "collapsed": true
   },
   "outputs": [],
   "source": [
    "# solution"
   ]
  },
  {
   "cell_type": "markdown",
   "metadata": {},
   "source": [
    "### Scatter vs plot\n",
    "Scatter allows modifying individual points, plot only allows modifying them all the same way:"
   ]
  },
  {
   "cell_type": "code",
   "execution_count": null,
   "metadata": {
    "collapsed": true
   },
   "outputs": [],
   "source": [
    "x = np.random.uniform(size=50)\n",
    "y = x + np.random.normal(0, .1, size=50)\n",
    "\n",
    "fig, ax = plt.subplots(2, 2, figsize=(5, 5),\n",
    "                       subplot_kw={'xticks': (), 'yticks': ()})\n",
    "ax[0, 0].scatter(x, y)\n",
    "ax[0, 0].set_title(\"scatter\")\n",
    "ax[0, 1].plot(x, y, 'o')\n",
    "ax[0, 1].set_title(\"plot\")\n",
    "ax[1, 0].scatter(x, y, c=x-y, cmap='bwr', edgecolor='k')\n",
    "ax[1, 1].scatter(x, y, c=x-y, s=np.abs(np.random.normal(scale=20, size=50)), cmap='bwr', edgecolor='k')\n",
    "plt.tight_layout()"
   ]
  },
  {
   "cell_type": "markdown",
   "metadata": {},
   "source": [
    "# Imshow, interpolation, colormaps\n",
    "- three important kinds of color maps: sequential, diverging, qualitative\n",
    "- default colormap: viridis\n",
    "- default qualitative colormap: tab10"
   ]
  },
  {
   "cell_type": "code",
   "execution_count": null,
   "metadata": {
    "collapsed": true
   },
   "outputs": [],
   "source": [
    "from matplotlib.cbook import get_sample_data\n",
    "f = get_sample_data(\"axes_grid/bivariate_normal.npy\", asfileobj=False)\n",
    "arr = np.load(f)"
   ]
  },
  {
   "cell_type": "code",
   "execution_count": null,
   "metadata": {
    "collapsed": true
   },
   "outputs": [],
   "source": [
    "fig, ax = plt.subplots(2, 2)\n",
    "im1 = ax[0, 0].imshow(arr)\n",
    "ax[0, 1].imshow(arr, interpolation='bilinear')\n",
    "im3 = ax[1, 0].imshow(arr, cmap='gray')\n",
    "im4 = ax[1, 1].imshow(arr, cmap='bwr', vmin=-1.5, vmax=1.5)\n",
    "plt.colorbar(im1, ax=ax[0, 0])\n",
    "plt.colorbar(im3, ax=ax[1, 0])\n",
    "plt.colorbar(im4, ax=ax[1, 1])"
   ]
  },
  {
   "cell_type": "markdown",
   "metadata": {},
   "source": [
    "## The problem of overplotting"
   ]
  },
  {
   "cell_type": "code",
   "execution_count": null,
   "metadata": {
    "collapsed": true
   },
   "outputs": [],
   "source": [
    "x1, y1 = 1 / np.random.uniform(-1000, 100, size=(2, 10000))\n",
    "x2, y2 = np.dot(np.random.uniform(size=(2, 2)), np.random.normal(size=(2, 1000)))\n",
    "x = np.hstack([x1, x2])\n",
    "y = np.hstack([y1, y2])"
   ]
  },
  {
   "cell_type": "code",
   "execution_count": null,
   "metadata": {
    "collapsed": true
   },
   "outputs": [],
   "source": [
    "plt.figure()\n",
    "plt.xlim(-1, 1)\n",
    "plt.ylim(-1, 1)\n",
    "plt.scatter(x, y)"
   ]
  },
  {
   "cell_type": "code",
   "execution_count": null,
   "metadata": {
    "collapsed": true
   },
   "outputs": [],
   "source": [
    "fig, ax = plt.subplots(1, 3, figsize=(10, 4),\n",
    "                       subplot_kw={'xlim': (-1, 1),\n",
    "                                   'ylim': (-1, 1)})\n",
    "ax[0].scatter(x, y)\n",
    "ax[1].scatter(x, y, alpha=.1)\n",
    "ax[2].scatter(x, y, alpha=.01)"
   ]
  },
  {
   "cell_type": "code",
   "execution_count": null,
   "metadata": {
    "collapsed": true
   },
   "outputs": [],
   "source": [
    "plt.figure()\n",
    "plt.hexbin(x, y, bins='log', extent=(-1, 1, -1, 1), gridsize=50, linewidths=0)\n",
    "plt.colorbar()"
   ]
  },
  {
   "cell_type": "markdown",
   "metadata": {},
   "source": [
    "# Twinx"
   ]
  },
  {
   "cell_type": "code",
   "execution_count": null,
   "metadata": {
    "collapsed": true
   },
   "outputs": [],
   "source": [
    "df = pd.DataFrame({'Math PhDs awareded (US)': {'2000': 1050,\n",
    "  '2001': 1010,\n",
    "  '2002': 919,\n",
    "  '2003': 993,\n",
    "  '2004': 1076,\n",
    "  '2005': 1205,\n",
    "  '2006': 1325,\n",
    "  '2007': 1393,\n",
    "  '2008': 1399,\n",
    "  '2009': 1554},\n",
    " 'Total revenue by arcades (US)': {'2000': 1196000000,\n",
    "  '2001': 1176000000,\n",
    "  '2002': 1269000000,\n",
    "  '2003': 1240000000,\n",
    "  '2004': 1307000000,\n",
    "  '2005': 1435000000,\n",
    "  '2006': 1601000000,\n",
    "  '2007': 1654000000,\n",
    "  '2008': 1803000000,\n",
    "  '2009': 1734000000}})"
   ]
  },
  {
   "cell_type": "code",
   "execution_count": null,
   "metadata": {
    "collapsed": true
   },
   "outputs": [],
   "source": [
    "# could also do df.plot()\n",
    "phds = df['Math PhDs awareded (US)']\n",
    "revenue = df['Total revenue by arcades (US)']\n",
    "years = df.index\n",
    "\n",
    "plt.figure()\n",
    "ax1 = plt.gca()\n",
    "line1, = ax1.plot(years, phds)\n",
    "line2, = ax1.plot(years, revenue, c='r')\n",
    "plt.legend((line1, line2), (\"math PhDs awarded\", \"revenue by arcades\"))"
   ]
  },
  {
   "cell_type": "code",
   "execution_count": null,
   "metadata": {
    "collapsed": true
   },
   "outputs": [],
   "source": [
    "plt.figure()\n",
    "ax1 = plt.gca()\n",
    "line1, = ax1.plot(years, phds)\n",
    "ax2 = ax1.twinx()\n",
    "line2, = ax2.plot(years, revenue, c='r')\n",
    "plt.legend((line1, line2), (\"math PhDs awarded\", \"revenue by arcades\"))\n",
    "ax1.set_ylabel(\"Math PhDs awarded\")\n",
    "ax2.set_ylabel(\"revenue by arcades\")"
   ]
  },
  {
   "cell_type": "markdown",
   "metadata": {},
   "source": [
    "# Exercise\n",
    "Get another dataset from http://www.tylervigen.com/spurious-correlations and plot it using ``twinx``."
   ]
  }
 ],
 "metadata": {
  "anaconda-cloud": {},
  "kernelspec": {
   "display_name": "Python [conda root]",
   "language": "python",
   "name": "conda-root-py"
  },
  "language_info": {
   "codemirror_mode": {
    "name": "ipython",
    "version": 3
   },
   "file_extension": ".py",
   "mimetype": "text/x-python",
   "name": "python",
   "nbconvert_exporter": "python",
   "pygments_lexer": "ipython3",
   "version": "3.6.1"
  }
 },
 "nbformat": 4,
 "nbformat_minor": 2
}
